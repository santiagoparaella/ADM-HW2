{
 "cells": [
  {
   "cell_type": "markdown",
   "metadata": {},
   "source": [
    "# How much running time does it take to execute splitSwap(a, 0, n)? (We want a Big O analysis.)"
   ]
  },
  {
   "cell_type": "markdown",
   "metadata": {},
   "source": [
    "#### La funzione swapList ha un costo T(n)=[Theta](n/2) in quanto la fuzione itera scambiando due elementi tramite una variabile di apoggio grazie ad un ciclo da 0 a n/2 dell'n in input. Le assegnazioni interne al ciclo costano tutte O(1) nell'ipotesi (verosimile) che il vettore sia passato per riferimento.\n",
    "[scriveremo quindi n/2 avendo swapList un costo di esattamente n/2]\n",
    "\n",
    "[theta] indica la notazione asintotica theta"
   ]
  },
  {
   "cell_type": "markdown",
   "metadata": {},
   "source": [
    "#### La funzione splitSwap segue la seguente equazione di ricorrenza:"
   ]
  },
  {
   "cell_type": "markdown",
   "metadata": {},
   "source": [
    "* $T(n)=O(1)$ __iff__ $n=1$\n",
    "* $T(n)=2T(n/2) + n/2$ __else__ "
   ]
  },
  {
   "cell_type": "markdown",
   "metadata": {},
   "source": [
    "dove:\n",
    "* $2T(n/2)$ indica le due chiamate ricorsive in cui l'n in input è metà dell'n iniziale\n",
    "* $+ n/2$ indica il costo della funzione swapList"
   ]
  },
  {
   "cell_type": "markdown",
   "metadata": {},
   "source": [
    "#### possiamo notare le seguenti cose:\n",
    "* il costo della funzione splitSwap è nella chiamata alla funzione swapList che costa n/2 \n",
    "* le altre istruzioni della funzione splitSwap hanno tutte costo O(n/2)"
   ]
  },
  {
   "cell_type": "markdown",
   "metadata": {},
   "source": [
    "#### Dobbiamo quindi capire fino a quando la funzione splitSwap ciclerà e quando invece arrivera al caso base di n=1\n",
    "\n",
    "### proviamo ad indagare l'andamento delle chiamate ricorsive in base all'iterazione:\n",
    "riportiamo anche il costo della chiamata a splitSwap per completezza\n",
    "#### i=1 : $T(n)=2T(n/2) + n/2$\n",
    "#### i=2 : $T(n)=2(T((n/2)/2) + (n/2)/2 = 2T(n/2^2) + n/2^2$\n",
    "#### i=3 : $T(n)=2(T(n(/4)/2) + (n/4)/2 = 2T(n/2^3) + n/2^3$\n",
    "#### i=4 : ... ...\n",
    "\n",
    "### In generale avremo:\n",
    "#### $T(n)=2T(n/2^i) + n/2^i$\n",
    "\n",
    "### Sapiamo che la funzione termina quando si avrà un n=1 in input.\n",
    "\n",
    "### Ciò avverrà quando:\n",
    "#### $n/2^i=1$ ->$\\log_2{n}=\\log_2{2^i}$ -> $\\log_2{n}=i\\log_2{2}$ -> $\\log_2{n}=i$"
   ]
  },
  {
   "cell_type": "markdown",
   "metadata": {},
   "source": [
    "### Sappiamo ora che l'albero delle chiamate ricorsive ha un altezza $\\log{n}$\n",
    "\n",
    "### Proviamo a \"srotolare\" questo albero per calcolare il costo della funzione:\n",
    "\n",
    "![GitHub Logo](../alberoRicorrenza.jpg)\n"
   ]
  },
  {
   "cell_type": "markdown",
   "metadata": {},
   "source": [
    "# Conlusioni\n",
    "\n",
    "### Il numero di iterazioni è $\\log{n}$\n",
    "### ad ogni iterazione la funzine costa $n/2$\n",
    "\n",
    "## Quindi i costo toale è:\n",
    "# $n/2 \\log{n}$"
   ]
  }
 ],
 "metadata": {
  "kernelspec": {
   "display_name": "Python 3",
   "language": "python",
   "name": "python3"
  },
  "language_info": {
   "codemirror_mode": {
    "name": "ipython",
    "version": 3
   },
   "file_extension": ".py",
   "mimetype": "text/x-python",
   "name": "python",
   "nbconvert_exporter": "python",
   "pygments_lexer": "ipython3",
   "version": "3.7.4"
  }
 },
 "nbformat": 4,
 "nbformat_minor": 4
}
